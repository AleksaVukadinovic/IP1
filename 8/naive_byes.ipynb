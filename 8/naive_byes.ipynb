{
 "cells": [
  {
   "cell_type": "code",
   "execution_count": 4,
   "id": "6dead58c-a8ad-42db-8c82-ec8331fc4996",
   "metadata": {},
   "outputs": [],
   "source": [
    "from sklearn.naive_bayes import MultinomialNB\n",
    "import os"
   ]
  },
  {
   "cell_type": "code",
   "execution_count": 2,
   "id": "0b4482b6-4b15-44fc-bc42-c9207f685cbe",
   "metadata": {},
   "outputs": [],
   "source": [
    "# stop words = the, a, I ...\n",
    "#              da, ne, i, a\n",
    "# Reci koje ne dodaju mnogo znacenja tj. cijim se gubitkom ne gubi znacenje"
   ]
  },
  {
   "cell_type": "code",
   "execution_count": 6,
   "id": "5907c2c0-84f9-4943-87bf-110ef771a3ed",
   "metadata": {},
   "outputs": [],
   "source": [
    "def read_data(root_dir):\n",
    "    corpus = []\n",
    "    classes = []\n",
    "    for class_name in os.listdir(root_dir):\n",
    "        class_dir = os.path.join(root_dir, class_name)\n",
    "        for file_name in os.listdir(class_dir):\n",
    "            file_path = os.path.join(class_dir, file_name)\n",
    "            with open(file_path) as f:\n",
    "                word_counts = {}\n",
    "                for line in f: \n",
    "                    word, count = line.split()\n",
    "                    count = int(count)\n",
    "                    word_counts[word] = count\n",
    "                corpus.append(word_counts)\n",
    "                classes.append(class_name)\n",
    "    return corpus"
   ]
  },
  {
   "cell_type": "code",
   "execution_count": null,
   "id": "9e73e727-5545-4c85-8eb7-542334a4e5ff",
   "metadata": {},
   "outputs": [],
   "source": [
    "X_train, y_train = read_data('putanja')"
   ]
  },
  {
   "cell_type": "code",
   "execution_count": null,
   "id": "72b763d9-0481-4d91-9d8d-d244921152b7",
   "metadata": {},
   "outputs": [],
   "source": [
    "print(len(X_train))\n",
    "print(len(y_train))"
   ]
  },
  {
   "cell_type": "code",
   "execution_count": 7,
   "id": "40909a96-aca2-4d08-a9ed-d33bab0e9024",
   "metadata": {},
   "outputs": [],
   "source": [
    "from sklearn.feature_extraction import DictVectorizer"
   ]
  },
  {
   "cell_type": "code",
   "execution_count": 8,
   "id": "9a0f6b0d-3807-48a7-8eb1-5e75ed33b35c",
   "metadata": {},
   "outputs": [],
   "source": [
    "dv = DictVectorizer()"
   ]
  },
  {
   "cell_type": "code",
   "execution_count": null,
   "id": "7661ad0c-fa75-4484-9f23-81b95f8a9f2a",
   "metadata": {},
   "outputs": [],
   "source": [
    "dv.fit(X_train)"
   ]
  },
  {
   "cell_type": "code",
   "execution_count": null,
   "id": "a1a29312-0c13-4fc3-b980-1c01b8ed872b",
   "metadata": {},
   "outputs": [],
   "source": [
    "len(dv.feature_names_)"
   ]
  },
  {
   "cell_type": "code",
   "execution_count": null,
   "id": "bafd99d6-747e-4540-9727-2aa7996244fb",
   "metadata": {},
   "outputs": [],
   "source": [
    "X_train = dv.transform(X_train)"
   ]
  },
  {
   "cell_type": "code",
   "execution_count": 9,
   "id": "44ad0a15-1974-485b-97f7-51514422aabb",
   "metadata": {},
   "outputs": [],
   "source": [
    "import pandas as pd"
   ]
  },
  {
   "cell_type": "code",
   "execution_count": null,
   "id": "26af9f5d-340e-4956-9fe5-a5a89824220b",
   "metadata": {},
   "outputs": [],
   "source": [
    "X_train = pd.DataFrame(X_train.toarray(), columns=dv.feature_names_)"
   ]
  },
  {
   "cell_type": "code",
   "execution_count": 10,
   "id": "043cda4e-9239-4fff-a9f8-8abb4b2ee9ce",
   "metadata": {},
   "outputs": [],
   "source": [
    "model = MultinomialNB()"
   ]
  },
  {
   "cell_type": "code",
   "execution_count": null,
   "id": "56c759d9-22e0-49b9-bf5e-62a44bf39b64",
   "metadata": {},
   "outputs": [],
   "source": [
    "model.fit(X_train, y_train)"
   ]
  },
  {
   "cell_type": "code",
   "execution_count": null,
   "id": "8886f990-f9c7-43dd-a237-cd8270d42d41",
   "metadata": {},
   "outputs": [],
   "source": [
    "y_train_pred = model.predict(X_train)"
   ]
  },
  {
   "cell_type": "code",
   "execution_count": null,
   "id": "10881b7d-f76e-4298-9419-82f43c3bfaa2",
   "metadata": {},
   "outputs": [],
   "source": [
    "from sklearn.metrics import confusion_matrix"
   ]
  }
 ],
 "metadata": {
  "kernelspec": {
   "display_name": "Python 3 (ipykernel)",
   "language": "python",
   "name": "python3"
  },
  "language_info": {
   "codemirror_mode": {
    "name": "ipython",
    "version": 3
   },
   "file_extension": ".py",
   "mimetype": "text/x-python",
   "name": "python",
   "nbconvert_exporter": "python",
   "pygments_lexer": "ipython3",
   "version": "3.12.3"
  }
 },
 "nbformat": 4,
 "nbformat_minor": 5
}
