{
 "cells": [
  {
   "cell_type": "code",
   "execution_count": 11,
   "id": "f2063164-5843-495a-9c0d-249895e718e7",
   "metadata": {},
   "outputs": [],
   "source": [
    "from sklearn import datasets\n",
    "import numpy as np\n",
    "from time import perf_counter\n",
    "import pandas as pd"
   ]
  },
  {
   "cell_type": "code",
   "execution_count": 5,
   "id": "f03924ed-3d7f-4a6f-b08d-faec9032d5e3",
   "metadata": {},
   "outputs": [
    {
     "name": "stdout",
     "output_type": "stream",
     "text": [
      "elapsed time: 0.0009\n"
     ]
    }
   ],
   "source": [
    "# pomoć za merenje vremena izvršavanja\n",
    "start_time = perf_counter()\n",
    "for _ in range(10000):\n",
    "    pass\n",
    "print(f'elapsed time: {perf_counter() - start_time:.4f}')"
   ]
  },
  {
   "cell_type": "code",
   "execution_count": 6,
   "id": "2f373bc7-ed40-4df8-aaaa-c627f22d30c5",
   "metadata": {},
   "outputs": [],
   "source": [
    "def create_datasets(n_samples: int = 1500) -> tuple[np.ndarray, np.ndarray, np.ndarray, np.ndarray, np.ndarray, np.ndarray]:\n",
    "    '''\n",
    "    Creates 6 2d synthetic datasets of different shapes and characteristics\n",
    "    \n",
    "    Returns:\n",
    "    - a tuple of 6 datasets\n",
    "    '''\n",
    "    noisy_circles = datasets.make_circles(\n",
    "        n_samples=n_samples, factor=0.5, noise=0.05, random_state=170\n",
    "    )\n",
    "    noisy_moons = datasets.make_moons(n_samples=n_samples, noise=0.05, random_state=170)\n",
    "    blobs = datasets.make_blobs(n_samples=n_samples, random_state=170)\n",
    "    rng = np.random.RandomState(170)\n",
    "    no_structure = rng.rand(n_samples, 2), None\n",
    "\n",
    "    # Anisotropicly distributed data\n",
    "    X, y = datasets.make_blobs(n_samples=n_samples, random_state=170)\n",
    "    transformation = [[0.6, -0.6], [-0.4, 0.8]]\n",
    "    X_aniso = np.dot(X, transformation)\n",
    "    aniso = (X_aniso, y)\n",
    "\n",
    "    # blobs with varied variances\n",
    "    varied = datasets.make_blobs(\n",
    "        n_samples=n_samples, cluster_std=[1.0, 2.5, 0.5], random_state=170\n",
    "    )\n",
    "    return tuple(X for X, _ in (noisy_circles, noisy_moons, varied, aniso, blobs, no_structure))"
   ]
  },
  {
   "cell_type": "code",
   "execution_count": 13,
   "id": "91106d16-ad44-4b17-8f2b-0ab144f1670b",
   "metadata": {},
   "outputs": [
    {
     "name": "stdout",
     "output_type": "stream",
     "text": [
      "          0         1\n",
      "0  0.438595  0.215316\n",
      "1 -0.422453 -0.305440\n",
      "2 -1.012481  0.047559\n",
      "3  0.976358  0.038049\n",
      "4 -1.016175 -0.277860\n",
      "          0         1\n",
      "0  0.064928  0.149214\n",
      "1  1.294972 -0.457130\n",
      "2  0.034000  0.937492\n",
      "3  0.976778  0.021321\n",
      "4 -0.200670  0.992690\n",
      "           0         1\n",
      "0  -6.111197  1.471531\n",
      "1  -7.496654  0.913425\n",
      "2 -10.844898 -7.553523\n",
      "3  -4.543377 -2.135686\n",
      "4  -1.913821 -0.034780\n",
      "          0         1\n",
      "0 -3.375615  3.632363\n",
      "1 -3.618828  3.786279\n",
      "2 -3.485530  0.464121\n",
      "3 -2.422184  2.101777\n",
      "4 -2.127235  2.142973\n",
      "           0         1\n",
      "0  -5.198113  0.641869\n",
      "1  -5.752295  0.418627\n",
      "2 -10.844898 -7.553523\n",
      "3  -4.570985 -0.801017\n",
      "4  -3.519162  0.039345\n",
      "          0         1\n",
      "0  0.052645  0.226862\n",
      "1  0.270531  0.504438\n",
      "2  0.596938  0.525257\n",
      "3  0.741354  0.017104\n",
      "4  0.946592  0.469140\n"
     ]
    }
   ],
   "source": [
    "Xs = create_datasets()\n",
    "dataframes = []\n",
    "for i in range(6):\n",
    "    dataframes.append(pd.DataFrame(Xs[i]))\n",
    "for df in dataframes:\n",
    "    print(df.head())"
   ]
  },
  {
   "cell_type": "code",
   "execution_count": null,
   "id": "3919523e-4b68-4124-9e3e-079b15e118cf",
   "metadata": {},
   "outputs": [],
   "source": [
    "X_train1, X_test1, y_train1, y_test1 = tr "
   ]
  },
  {
   "cell_type": "code",
   "execution_count": 14,
   "id": "0dfa9f83-709c-4131-8f44-bd96456ff072",
   "metadata": {},
   "outputs": [],
   "source": [
    "from sklearn.cluster import KMeans"
   ]
  },
  {
   "cell_type": "code",
   "execution_count": 9,
   "id": "ffe9dd8c-fb3b-4c69-b024-0c7a5c1b5e91",
   "metadata": {},
   "outputs": [],
   "source": [
    "kmeans = KMeans()"
   ]
  },
  {
   "cell_type": "code",
   "execution_count": null,
   "id": "7ff31129-e85b-48c0-8560-3d64f18927e1",
   "metadata": {},
   "outputs": [],
   "source": []
  }
 ],
 "metadata": {
  "kernelspec": {
   "display_name": "Python 3 (ipykernel)",
   "language": "python",
   "name": "python3"
  },
  "language_info": {
   "codemirror_mode": {
    "name": "ipython",
    "version": 3
   },
   "file_extension": ".py",
   "mimetype": "text/x-python",
   "name": "python",
   "nbconvert_exporter": "python",
   "pygments_lexer": "ipython3",
   "version": "3.12.3"
  }
 },
 "nbformat": 4,
 "nbformat_minor": 5
}
