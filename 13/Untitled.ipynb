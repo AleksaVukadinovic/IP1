{
 "cells": [
  {
   "cell_type": "markdown",
   "id": "35b20a9a-c642-4810-86da-5c0199b33270",
   "metadata": {},
   "source": [
    "# Imbalanced learn\n",
    "\n",
    "imblearn - biblioteka za rad sa nebalansiranim klasama"
   ]
  },
  {
   "cell_type": "code",
   "execution_count": 2,
   "id": "27a1d546-86ca-44b6-b917-008d34ea5600",
   "metadata": {},
   "outputs": [],
   "source": [
    "import imblearn as im\n",
    "import pandas as pd\n",
    "from imblearn.datasets import fetch_datasets"
   ]
  },
  {
   "cell_type": "code",
   "execution_count": 3,
   "id": "a7985a0d-8e36-4b85-837d-1d42035aa4c7",
   "metadata": {},
   "outputs": [],
   "source": [
    "mammography = fetch_datasets()['mammography']\n",
    "X = pd.DataFrame(mammography.data)\n",
    "y = pd.Series(mammography.target)"
   ]
  },
  {
   "cell_type": "code",
   "execution_count": 4,
   "id": "e617fef3-dee5-47a3-b960-8985875e32e2",
   "metadata": {},
   "outputs": [
    {
     "name": "stdout",
     "output_type": "stream",
     "text": [
      "(11183, 6)\n"
     ]
    },
    {
     "data": {
      "text/html": [
       "<div>\n",
       "<style scoped>\n",
       "    .dataframe tbody tr th:only-of-type {\n",
       "        vertical-align: middle;\n",
       "    }\n",
       "\n",
       "    .dataframe tbody tr th {\n",
       "        vertical-align: top;\n",
       "    }\n",
       "\n",
       "    .dataframe thead th {\n",
       "        text-align: right;\n",
       "    }\n",
       "</style>\n",
       "<table border=\"1\" class=\"dataframe\">\n",
       "  <thead>\n",
       "    <tr style=\"text-align: right;\">\n",
       "      <th></th>\n",
       "      <th>0</th>\n",
       "      <th>1</th>\n",
       "      <th>2</th>\n",
       "      <th>3</th>\n",
       "      <th>4</th>\n",
       "      <th>5</th>\n",
       "    </tr>\n",
       "  </thead>\n",
       "  <tbody>\n",
       "    <tr>\n",
       "      <th>count</th>\n",
       "      <td>1.118300e+04</td>\n",
       "      <td>1.118300e+04</td>\n",
       "      <td>1.118300e+04</td>\n",
       "      <td>1.118300e+04</td>\n",
       "      <td>1.118300e+04</td>\n",
       "      <td>1.118300e+04</td>\n",
       "    </tr>\n",
       "    <tr>\n",
       "      <th>mean</th>\n",
       "      <td>1.096536e-10</td>\n",
       "      <td>1.297595e-09</td>\n",
       "      <td>5.698113e-10</td>\n",
       "      <td>-2.435706e-09</td>\n",
       "      <td>-1.120680e-09</td>\n",
       "      <td>1.459483e-09</td>\n",
       "    </tr>\n",
       "    <tr>\n",
       "      <th>std</th>\n",
       "      <td>1.000000e+00</td>\n",
       "      <td>1.000000e+00</td>\n",
       "      <td>1.000000e+00</td>\n",
       "      <td>1.000000e+00</td>\n",
       "      <td>1.000000e+00</td>\n",
       "      <td>1.000000e+00</td>\n",
       "    </tr>\n",
       "    <tr>\n",
       "      <th>min</th>\n",
       "      <td>-7.844148e-01</td>\n",
       "      <td>-4.701953e-01</td>\n",
       "      <td>-5.916315e-01</td>\n",
       "      <td>-8.595525e-01</td>\n",
       "      <td>-3.778657e-01</td>\n",
       "      <td>-9.457232e-01</td>\n",
       "    </tr>\n",
       "    <tr>\n",
       "      <th>25%</th>\n",
       "      <td>-7.844148e-01</td>\n",
       "      <td>-4.701953e-01</td>\n",
       "      <td>-5.916315e-01</td>\n",
       "      <td>-8.595525e-01</td>\n",
       "      <td>-3.778657e-01</td>\n",
       "      <td>-9.457232e-01</td>\n",
       "    </tr>\n",
       "    <tr>\n",
       "      <th>50%</th>\n",
       "      <td>-1.085769e-01</td>\n",
       "      <td>-3.949941e-01</td>\n",
       "      <td>-2.309790e-01</td>\n",
       "      <td>-8.595525e-01</td>\n",
       "      <td>-3.778657e-01</td>\n",
       "      <td>-9.457232e-01</td>\n",
       "    </tr>\n",
       "    <tr>\n",
       "      <th>75%</th>\n",
       "      <td>3.139489e-01</td>\n",
       "      <td>-7.649473e-02</td>\n",
       "      <td>2.198366e-01</td>\n",
       "      <td>8.202077e-01</td>\n",
       "      <td>-3.778657e-01</td>\n",
       "      <td>1.016613e+00</td>\n",
       "    </tr>\n",
       "    <tr>\n",
       "      <th>max</th>\n",
       "      <td>3.150844e+01</td>\n",
       "      <td>5.085849e+00</td>\n",
       "      <td>2.947777e+01</td>\n",
       "      <td>9.591164e+00</td>\n",
       "      <td>2.361712e+01</td>\n",
       "      <td>1.949027e+00</td>\n",
       "    </tr>\n",
       "  </tbody>\n",
       "</table>\n",
       "</div>"
      ],
      "text/plain": [
       "                  0             1             2             3             4  \\\n",
       "count  1.118300e+04  1.118300e+04  1.118300e+04  1.118300e+04  1.118300e+04   \n",
       "mean   1.096536e-10  1.297595e-09  5.698113e-10 -2.435706e-09 -1.120680e-09   \n",
       "std    1.000000e+00  1.000000e+00  1.000000e+00  1.000000e+00  1.000000e+00   \n",
       "min   -7.844148e-01 -4.701953e-01 -5.916315e-01 -8.595525e-01 -3.778657e-01   \n",
       "25%   -7.844148e-01 -4.701953e-01 -5.916315e-01 -8.595525e-01 -3.778657e-01   \n",
       "50%   -1.085769e-01 -3.949941e-01 -2.309790e-01 -8.595525e-01 -3.778657e-01   \n",
       "75%    3.139489e-01 -7.649473e-02  2.198366e-01  8.202077e-01 -3.778657e-01   \n",
       "max    3.150844e+01  5.085849e+00  2.947777e+01  9.591164e+00  2.361712e+01   \n",
       "\n",
       "                  5  \n",
       "count  1.118300e+04  \n",
       "mean   1.459483e-09  \n",
       "std    1.000000e+00  \n",
       "min   -9.457232e-01  \n",
       "25%   -9.457232e-01  \n",
       "50%   -9.457232e-01  \n",
       "75%    1.016613e+00  \n",
       "max    1.949027e+00  "
      ]
     },
     "execution_count": 4,
     "metadata": {},
     "output_type": "execute_result"
    }
   ],
   "source": [
    "print(X.shape)\n",
    "X.describe()"
   ]
  },
  {
   "cell_type": "code",
   "execution_count": 6,
   "id": "6d582fcd-5aca-4598-9bb8-bbb6ead4a54c",
   "metadata": {},
   "outputs": [
    {
     "data": {
      "image/png": "[encoded data removed]",
      "text/plain": [
       "<Figure size 640x480 with 1 Axes>"
      ]
     },
     "metadata": {},
     "output_type": "display_data"
    }
   ],
   "source": [
    "import numpy as np\n",
    "from matplotlib import pyplot as plt\n",
    "\n",
    "freq, bins, _ = plt.hist(y, edgecolor='white', bins=2)\n",
    "\n",
    "bin_centers = np.diff(bins)*0.5 + bins[:-1]\n",
    "\n",
    "for fr, x in zip(freq, bin_centers):\n",
    "    height = int(fr)\n",
    "    plt.annotate(\"{}\".format(height),\n",
    "               xy = (x, height),\n",
    "               xytext = (0,0.2),\n",
    "               textcoords = \"offset points\", \n",
    "               ha = 'center', va = 'bottom'\n",
    "               )\n",
    "plt.title('Nebalansiranost klasa')\n",
    "\n",
    "plt.show()"
   ]
  },
  {
   "cell_type": "markdown",
   "id": "2fd26aa4-479d-4a96-b10e-a763df85587d",
   "metadata": {},
   "source": [
    "# Metrike za evaluaciju prilikom rada sa nebalansiranim klasama\n",
    "\n",
    "U situacijama kada imamo jako nebalansirane klase, ne možemo da koristimo accuracy za evaluaciju modela. Npr. ako 99% instanci koje pripadaju većinskoj klasi. Naš model može klasifikovati sve instance u većinsku (što bi bio jako loš model), ali bi accuracy bila 0,99 (što bi signaliziralo da je model jako dobar). Izveštaj klasifikacije za nebalansirane klase u okviru sklearn-a prikazuje state-of-the-art metrike, kao što su precision/recall/specificity, geometric mean, and index balanced accuracy of the geometric mean."
   ]
  },
  {
   "cell_type": "code",
   "execution_count": 7,
   "id": "4436e78f-31ec-4ee0-bdb5-8bf18bd0b88c",
   "metadata": {},
   "outputs": [],
   "source": [
    "from sklearn.model_selection import train_test_split"
   ]
  },
  {
   "cell_type": "code",
   "execution_count": 8,
   "id": "24247310-2d61-4773-b029-5adf1fb440ef",
   "metadata": {},
   "outputs": [],
   "source": [
    "X_train, X_test, y_train, y_test = train_test_split(X, y, stratify=y, test_size=0.25, random_state=42)"
   ]
  },
  {
   "cell_type": "code",
   "execution_count": null,
   "id": "f1f81464-5042-4d76-be45-d851b16bd6d3",
   "metadata": {},
   "outputs": [],
   "source": []
  }
 ],
 "metadata": {
  "kernelspec": {
   "display_name": "Python 3 (ipykernel)",
   "language": "python",
   "name": "python3"
  },
  "language_info": {
   "codemirror_mode": {
    "name": "ipython",
    "version": 3
   },
   "file_extension": ".py",
   "mimetype": "text/x-python",
   "name": "python",
   "nbconvert_exporter": "python",
   "pygments_lexer": "ipython3",
   "version": "3.12.3"
  }
 },
 "nbformat": 4,
 "nbformat_minor": 5
}
