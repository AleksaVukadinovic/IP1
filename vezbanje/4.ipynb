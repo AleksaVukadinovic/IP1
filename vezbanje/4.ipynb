{
 "cells": [
  {
   "cell_type": "markdown",
   "id": "711bcb60-4850-4a0a-b2e1-4de422093917",
   "metadata": {},
   "source": [
    "# Stabla odlucivanja\n",
    "\n",
    "Sta je bolje za model, Gini ili entropija?\n",
    "Koju maksimalnu dubinu stabla zelimo?\n",
    "Da li zelimo da koristitimo potkresivanje?\n",
    "-> Ne mozemo znati unapred - jedini nacin je da testiramo\n",
    "\n",
    "Da li mozemo samo da izmerimo tacnost za razlicite pristupe i da uzmemo onaj model sa boljom tacnoscu? Moze ali ne na test skupu, jer i sam test je deo treninga i na njemu nema proveravanja. Iz toga razloga trening skup se moze dalje podeliti i odvojiti skup za validaciju.\n"
   ]
  },
  {
   "cell_type": "code",
   "execution_count": null,
   "id": "895d1801-6fc5-478a-acf9-c4195fc19a74",
   "metadata": {},
   "outputs": [],
   "source": [
    "import pandas as pd"
   ]
  }
 ],
 "metadata": {
  "kernelspec": {
   "display_name": "Python 3 (ipykernel)",
   "language": "python",
   "name": "python3"
  },
  "language_info": {
   "codemirror_mode": {
    "name": "ipython",
    "version": 3
   },
   "file_extension": ".py",
   "mimetype": "text/x-python",
   "name": "python",
   "nbconvert_exporter": "python",
   "pygments_lexer": "ipython3",
   "version": "3.12.3"
  }
 },
 "nbformat": 4,
 "nbformat_minor": 5
}
