{
 "cells": [
  {
   "cell_type": "code",
   "execution_count": null,
   "id": "e7837c58-862a-42f9-90bc-ba759703170f",
   "metadata": {},
   "outputs": [],
   "source": []
  }
 ],
 "metadata": {
  "kernelspec": {
   "display_name": "",
   "name": ""
  },
  "language_info": {
   "name": ""
  }
 },
 "nbformat": 4,
 "nbformat_minor": 5
}
