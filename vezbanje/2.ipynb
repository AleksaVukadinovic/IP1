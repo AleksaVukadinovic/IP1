{
 "cells": [
  {
   "cell_type": "markdown",
   "id": "97f134ea-192d-401c-80e1-4e5ee88ba39a",
   "metadata": {},
   "source": [
    "# Mere bliskosti\n",
    "\n",
    "Mozemo da merimo koliko su dva objekta:\n",
    "**Slicni**\n",
    "- Numerička mera koliko su dva objekta slična  \n",
    "- Što dva objekta više liče jedan na drugi, sličnost je veća  \n",
    "- Često se meri vrednostima u intervalu **[0,1]**  \n",
    "\n",
    "**Razliciti**\n",
    "- Numerička mera koliko su dva objekta različita  \n",
    "- Što dva objekta više liče jedan na drugi, različitost je manja  \n",
    "- Najmanja različitost je obično **0**, gornja granica može varirati  \n",
    "- Sinonim: **rastojanje**\n",
    "\n",
    "Ovo su u sustini mere rastojanja tj. udaljenosti. Kako da izmerimo tu udaljenost?\n",
    "Npr kod klasterovanja mozemo koristiti Euklidsko rastojanje.\n",
    "Kod teksta (npr imena) mozemo edit distance itd...\n",
    "\n",
    "### Rastojanje Minkovskog\n",
    "\\[\n",
    "dist(p, q) = \\left( \\sum_{k=1}^n |p_k - q_k|^r \\right)^{1/r}\n",
    "\\]\n",
    "\n",
    "Gde je:  \n",
    "- `r` – parametar  \n",
    "- `n` – broj dimenzija (atributa)  \n",
    "- `p_k` i `q_k` – vrednosti k-tog atributa objekata **p** i **q**  \n",
    "\n",
    "#### Posebni slučajevi:\n",
    "- **r = 1** → Menhetn (L1 norma) rastojanje  \n",
    "  - *Hamingovo rastojanje* (za binarne vektore)  \n",
    "- **r = 2** → Euklidsko rastojanje  \n",
    "- **r → ∞** → Supremum (Lmax norma) rastojanje  \n",
    "  - Maksimalna razlika između komponenti vektora  \n",
    "\n",
    "Pre izračunavanja rastojanja često se radi **standardizacija** ili **normalizacija** atributa.\n",
    "\n",
    "- **Standardizacija** - postupak transformacije podataka tako da različite promenljive dobiju uporedive skale. U praksi, to znači da se svaka vrednost x promenljive transformiše tako da nova vrednost pokazuje koliko odstupa od proseka u jedinicama standardne devijacije\n",
    "- **Normalizacija** je transformacija podataka na unapred definisan opseg, najčešće $[0,1]$ ili $[-1,-1]$\n",
    "\n",
    "---\n",
    "\n",
    "### Rastojanje binarnih vektora\n",
    "\n",
    "Za objekte predstavljene binarnim vektorima definišu se:  \n",
    "- **M₀₁** – broj atributa koji su `0` u p i `1` u q  \n",
    "- **M₁₀** – broj atributa koji su `1` u p i `0` u q  \n",
    "- **M₀₀** – broj atributa koji su `0` u p i `0` u q  \n",
    "- **M₁₁** – broj atributa koji su `1` u p i `1` u q  \n",
    "\n",
    "---\n",
    "\n",
    "## Priprema podataka\n",
    "\n",
    "- **Diskretizacija** – transformacija neprekidnog atributa u kategorijski atribut  \n",
    "- **Binarizacija** – transformacija atributa u jedan ili više binarnih atributa  "
   ]
  }
 ],
 "metadata": {
  "kernelspec": {
   "display_name": "Python 3 (ipykernel)",
   "language": "python",
   "name": "python3"
  },
  "language_info": {
   "codemirror_mode": {
    "name": "ipython",
    "version": 3
   },
   "file_extension": ".py",
   "mimetype": "text/x-python",
   "name": "python",
   "nbconvert_exporter": "python",
   "pygments_lexer": "ipython3",
   "version": "3.12.3"
  }
 },
 "nbformat": 4,
 "nbformat_minor": 5
}
