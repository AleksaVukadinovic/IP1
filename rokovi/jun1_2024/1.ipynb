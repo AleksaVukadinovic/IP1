{
 "cells": [
  {
   "cell_type": "code",
   "execution_count": 1,
   "id": "18e50cff-4c4d-4394-ac93-7c7d0008c9ec",
   "metadata": {},
   "outputs": [],
   "source": [
    "import pandas as pd\n",
    "from sklearn.model_selection import train_test_split\n",
    "from sklearn.feature_extraction.text import CountVectorizer, TfidfVectorizer\n",
    "from sklearn.naive_bayes import MultinomialNB\n",
    "from sklearn.metrics import confusion_matrix, accuracy_score"
   ]
  },
  {
   "cell_type": "code",
   "execution_count": 2,
   "id": "32e88fff-3614-4d67-befd-c38ab566c8ab",
   "metadata": {},
   "outputs": [],
   "source": [
    "df = pd.read_csv(\"20newsgroups.csv\")\n",
    "X = df.iloc[:, 0]\n",
    "y = df.iloc[:, 1]"
   ]
  },
  {
   "cell_type": "code",
   "execution_count": 3,
   "id": "c32bffe6-2eb2-4c67-b38b-42b0192330ff",
   "metadata": {},
   "outputs": [
    {
     "name": "stdout",
     "output_type": "stream",
     "text": [
      "Broj različitih klasa: 20\n",
      "\n",
      "Distribucija po klasama:\n",
      "target\n",
      "10    0.053032\n",
      "15    0.052943\n",
      "8     0.052855\n",
      "9     0.052766\n",
      "11    0.052590\n",
      "13    0.052501\n",
      "7     0.052501\n",
      "14    0.052413\n",
      "5     0.052413\n",
      "2     0.052236\n",
      "12    0.052236\n",
      "3     0.052148\n",
      "6     0.051706\n",
      "1     0.051617\n",
      "4     0.051087\n",
      "17    0.049850\n",
      "16    0.048259\n",
      "0     0.042425\n",
      "18    0.041100\n",
      "19    0.033322\n",
      "Name: proportion, dtype: float64\n"
     ]
    }
   ],
   "source": [
    "print(\"Broj različitih klasa:\", y.nunique())\n",
    "print(\"\\nDistribucija po klasama:\")\n",
    "print(y.value_counts(normalize=True))"
   ]
  },
  {
   "cell_type": "code",
   "execution_count": 5,
   "id": "59b46a09-6cf0-4e15-8c04-f76dec248b1f",
   "metadata": {},
   "outputs": [
    {
     "name": "stdout",
     "output_type": "stream",
     "text": [
      "X_train: (7919,)\n",
      "y_train: (7919,)\n",
      "X_test: (3395,)\n",
      "y_test: (3395,)\n"
     ]
    }
   ],
   "source": [
    "X_train, X_test, y_train, y_test = train_test_split(X, y, test_size=0.3, stratify=y, random_state=42)\n",
    "print(\"X_train:\", X_train.shape)\n",
    "print(\"y_train:\", y_train.shape)\n",
    "print(\"X_test:\", X_test.shape)\n",
    "print(\"y_test:\", y_test.shape)"
   ]
  },
  {
   "cell_type": "code",
   "execution_count": 6,
   "id": "f2503a4f-2b89-4c8b-956c-3209122589ce",
   "metadata": {},
   "outputs": [],
   "source": [
    "vectorizer = CountVectorizer()\n",
    "tf_train = vectorizer.fit_transform(X_train)\n",
    "tf_test = vectorizer.transform(X_test)"
   ]
  },
  {
   "cell_type": "code",
   "execution_count": 7,
   "id": "5a82aa2b-e86e-4677-b567-6a226b4d7bbf",
   "metadata": {},
   "outputs": [],
   "source": [
    "model = MultinomialNB()\n",
    "model.fit(tf_train, y_train)\n",
    "y_pred_tf = model.predict(tf_test)"
   ]
  },
  {
   "cell_type": "code",
   "execution_count": 8,
   "id": "8c06afcb-b054-4add-af53-04cf4c15f085",
   "metadata": {},
   "outputs": [
    {
     "name": "stdout",
     "output_type": "stream",
     "text": [
      "0.8203240058910162\n",
      "[[127   0   0   0   0   0   0   0   0   0   0   1   0   0   0  12   0   2\n",
      "    0   2]\n",
      " [  0 128   0  11   1  21   1   1   0   0   0   5   0   1   3   2   0   1\n",
      "    0   0]\n",
      " [  0  12  11  57  12  60   0   1   0   0   0  10   6   2   2   1   0   0\n",
      "    3   0]\n",
      " [  0   4   0 140   8   9   3   2   0   0   0   4   5   1   0   1   0   0\n",
      "    0   0]\n",
      " [  0   4   0  11 137   3   0   1   0   0   0   4   7   1   1   2   0   0\n",
      "    2   0]\n",
      " [  0   8   0   1   0 159   0   0   0   1   0   4   1   0   3   0   1   0\n",
      "    0   0]\n",
      " [  0   4   1  16   5   0  98  11   2   1   3  11   4   4  11   2   2   1\n",
      "    0   0]\n",
      " [  0   0   0   0   0   3   3 160   1   0   0   0   4   1   1   0   1   1\n",
      "    3   0]\n",
      " [  1   0   0   0   0   0   2   5 167   0   0   0   1   0   0   1   2   1\n",
      "    0   0]\n",
      " [  0   1   0   0   0   0   0   0   0 162  10   0   1   0   1   1   0   1\n",
      "    2   0]\n",
      " [  0   0   0   0   0   0   0   0   0   2 176   0   0   0   0   0   0   1\n",
      "    1   0]\n",
      " [  0   1   1   0   0   0   0   0   0   0   0 176   1   0   0   0   0   0\n",
      "    0   0]\n",
      " [  0   4   0   5   3   2   1   3   1   0   0  13 134   0   8   1   0   2\n",
      "    0   0]\n",
      " [  0   0   0   0   0   1   0   0   0   0   0   2   0 164   3   2   4   2\n",
      "    0   0]\n",
      " [  0   1   0   0   0   1   0   0   0   0   1   0   1   1 172   0   0   0\n",
      "    1   0]\n",
      " [  0   0   0   0   0   1   0   0   0   0   1   1   0   1   1 172   0   3\n",
      "    0   0]\n",
      " [  0   0   0   0   0   0   0   0   0   0   0   3   0   0   0   0 158   2\n",
      "    1   0]\n",
      " [  1   0   0   0   0   0   0   0   0   0   0   0   0   0   0   1   0 166\n",
      "    1   0]\n",
      " [  0   0   0   0   0   0   0   1   0   0   0   2   1   0   0   2   3   6\n",
      "  125   0]\n",
      " [  9   0   0   0   0   0   0   0   1   1   0   0   0   0   2  38   6   2\n",
      "    1  53]]\n"
     ]
    }
   ],
   "source": [
    "print(accuracy_score(y_test, y_pred_tf))\n",
    "print(confusion_matrix(y_test, y_pred_tf))"
   ]
  },
  {
   "cell_type": "code",
   "execution_count": 9,
   "id": "68f0bbcb-7037-442f-9ec2-a5e653d9bb81",
   "metadata": {},
   "outputs": [],
   "source": [
    "tfidf_vectorizer = TfidfVectorizer()\n",
    "tfidf_train = tfidf_vectorizer.fit_transform(X_train)\n",
    "tfidf_test = tfidf_vectorizer.transform(X_test)\n",
    "\n",
    "modelidf = MultinomialNB()\n",
    "modelidf.fit(tfidf_train, y_train)\n",
    "y_pred_tfidf = modelidf.predict(tfidf_test)"
   ]
  },
  {
   "cell_type": "code",
   "execution_count": 10,
   "id": "6b71805a-8d6e-4dce-9f15-2cedaf4c3266",
   "metadata": {},
   "outputs": [
    {
     "name": "stdout",
     "output_type": "stream",
     "text": [
      "0.8256259204712812\n",
      "[[104   0   0   0   0   0   0   0   0   0   0   0   0   0   0  39   0   0\n",
      "    0   1]\n",
      " [  0 125   5  13   1  10   1   2   0   1   0   8   0   0   1   8   0   0\n",
      "    0   0]\n",
      " [  0   4 132  21   1   5   0   1   0   0   1   6   1   0   0   5   0   0\n",
      "    0   0]\n",
      " [  0   2  10 139   8   0   4   2   0   0   1   5   4   1   0   1   0   0\n",
      "    0   0]\n",
      " [  0   1   0   6 144   0   1   1   2   1   2   8   3   1   1   2   0   0\n",
      "    0   0]\n",
      " [  0   3   3   3   0 150   0   1   0   1   1  11   1   0   1   3   0   0\n",
      "    0   0]\n",
      " [  0   1   5  13   3   0 103  12   1   3   6   9   2   3   2   9   3   1\n",
      "    0   0]\n",
      " [  0   0   0   0   0   0   3 168   0   0   3   1   1   0   1   0   1   0\n",
      "    0   0]\n",
      " [  0   0   0   0   0   0   2   7 167   0   0   0   1   0   0   3   0   0\n",
      "    0   0]\n",
      " [  0   0   0   0   0   0   1   1   1 166   7   0   1   0   1   1   0   0\n",
      "    0   0]\n",
      " [  0   0   0   0   0   0   0   0   0   4 175   0   0   0   0   0   1   0\n",
      "    0   0]\n",
      " [  0   1   1   0   0   0   0   0   0   0   0 176   1   0   0   0   0   0\n",
      "    0   0]\n",
      " [  0   2   2   4   7   1   1   7   0   0   1  15 125   0   7   3   2   0\n",
      "    0   0]\n",
      " [  0   0   0   1   0   0   0   0   0   0   0   5   0 156   1  11   4   0\n",
      "    0   0]\n",
      " [  0   2   0   0   0   0   1   0   0   0   0   1   0   0 169   5   0   0\n",
      "    0   0]\n",
      " [  0   0   0   0   0   0   0   1   0   0   0   0   0   0   0 178   0   1\n",
      "    0   0]\n",
      " [  0   0   0   0   0   0   0   0   0   0   0   3   0   0   0   1 159   1\n",
      "    0   0]\n",
      " [  0   0   0   0   0   0   0   0   0   0   0   0   0   0   0   2   0 167\n",
      "    0   0]\n",
      " [  0   0   0   0   0   0   0   1   0   2   2   9   0   0   1  24  15   3\n",
      "   83   0]\n",
      " [ 11   0   0   0   0   0   0   0   1   1   1   2   0   0   2  70   7   1\n",
      "    0  17]]\n"
     ]
    }
   ],
   "source": [
    "print(accuracy_score(y_test, y_pred_tfidf))\n",
    "print(confusion_matrix(y_test, y_pred_tfidf))"
   ]
  },
  {
   "cell_type": "code",
   "execution_count": 11,
   "id": "e6cf3bf9-10c3-407b-af8b-604bc21045b3",
   "metadata": {},
   "outputs": [
    {
     "name": "stdout",
     "output_type": "stream",
     "text": [
      "- Skup ima 20 klasa i relativno je balansiran → accuracy je adekvatna metrika.\n",
      "- TF-IDF obično daje nešto bolje rezultate jer smanjuje značaj vrlo čestih reči.\n"
     ]
    }
   ],
   "source": [
    "print(\"- Skup ima\", y.nunique(), \"klasa i relativno je balansiran → accuracy je adekvatna metrika.\")\n",
    "print(\"- TF-IDF obično daje nešto bolje rezultate jer smanjuje značaj vrlo čestih reči.\")"
   ]
  }
 ],
 "metadata": {
  "kernelspec": {
   "display_name": "Python 3 (ipykernel)",
   "language": "python",
   "name": "python3"
  },
  "language_info": {
   "codemirror_mode": {
    "name": "ipython",
    "version": 3
   },
   "file_extension": ".py",
   "mimetype": "text/x-python",
   "name": "python",
   "nbconvert_exporter": "python",
   "pygments_lexer": "ipython3",
   "version": "3.12.3"
  }
 },
 "nbformat": 4,
 "nbformat_minor": 5
}
